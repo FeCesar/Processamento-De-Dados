{
 "cells": [
  {
   "cell_type": "markdown",
   "id": "macro-transaction",
   "metadata": {},
   "source": [
    "# Tratando dados nulos com Python - Pandas\n",
    "\n",
    "    Normalmente nas análises de bancos de dados, temos que algumas linhas não são totalmente preenchidas, fazendo com que\n",
    "    a análise seja mais dificultosa e ainda tenhamos que preencher essas linhas corretamente. Para isso utilizaremos a\n",
    "    biblioteca Pandas que é uma biblioteca feita em python e que possibilita o tratamento e a análise de grandes quantidades \n",
    "    de dados.\n",
    "    \n",
    "    - Instalando a Biblioteca Pandas:\n",
    "        - Com o python instaldo no computador, temos o gerenciador de depêndencias incluso - o pip;\n",
    "        - Basta abrir o cmd/powerShell e digitar # pip install pandas"
   ]
  },
  {
   "cell_type": "markdown",
   "id": "taken-georgia",
   "metadata": {},
   "source": [
    "    Criando a Base de Dados"
   ]
  },
  {
   "cell_type": "code",
   "execution_count": 46,
   "id": "orange-progressive",
   "metadata": {
    "scrolled": true
   },
   "outputs": [],
   "source": [
    "import pandas as pd\n",
    "\n",
    "dataBase = pd.DataFrame(columns=[\"Nome\", \"Altura\", \"Peso\", \"Qtd.Vitorias\", \"Qtd.Derrotas\"], index=[0])"
   ]
  },
  {
   "cell_type": "markdown",
   "id": "steady-planner",
   "metadata": {},
   "source": [
    "    Adicionando valores ao dataBase"
   ]
  },
  {
   "cell_type": "code",
   "execution_count": 47,
   "id": "creative-pioneer",
   "metadata": {},
   "outputs": [],
   "source": [
    "import random as rm\n",
    "\n",
    "nomes = [\"João\", \"Gabriel\", \"Rodolfo\", \"Igor\", \"Matheus\", \"Ricardo\", \"Pedro\", \"Otávio\", \"Vitor\", \"Lucas\", \"Breno\"]\n",
    "indice = 0\n",
    "\n",
    "for indice in range(10):\n",
    "    dataBase.loc[indice] = [nomes[indice]] + [round(rm.uniform(1.60, 2.00), 2)] + [round(rm.uniform(60, 100), 2)] + [round(rm.randint(10, 60), 2)] + [round(rm.randint(10, 60), 2)]\n",
    "    indice = indice + 1"
   ]
  },
  {
   "cell_type": "code",
   "execution_count": null,
   "id": "excellent-audience",
   "metadata": {},
   "outputs": [],
   "source": []
  }
 ],
 "metadata": {
  "kernelspec": {
   "display_name": "Python 3",
   "language": "python",
   "name": "python3"
  },
  "language_info": {
   "codemirror_mode": {
    "name": "ipython",
    "version": 3
   },
   "file_extension": ".py",
   "mimetype": "text/x-python",
   "name": "python",
   "nbconvert_exporter": "python",
   "pygments_lexer": "ipython3",
   "version": "3.9.1"
  }
 },
 "nbformat": 4,
 "nbformat_minor": 5
}
