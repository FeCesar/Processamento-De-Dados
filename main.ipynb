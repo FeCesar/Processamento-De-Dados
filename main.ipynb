{
 "cells": [
  {
   "cell_type": "markdown",
   "id": "extended-spirituality",
   "metadata": {},
   "source": [
    "# Tratando dados nulos com Python - Pandas\n",
    "\n",
    "    Normalmente nas análises de bancos de dados, temos que algumas linhas não são totalmente preenchidas, fazendo com que\n",
    "    a análise seja mais dificultosa e ainda tenhamos que preencher essas linhas corretamente. Para isso utilizaremos a\n",
    "    biblioteca Pandas que é uma biblioteca feita em python e que possibilita o tratamento e a análise de grandes quantidades \n",
    "    de dados.\n",
    "    \n",
    "    - Instalando a Biblioteca Pandas:\n",
    "        - Com o python instaldo no computador, temos o gerenciador de depêndencias incluso - o pip;\n",
    "        - Basta abrir o cmd/powerShell e digitar # pip install pandas"
   ]
  },
  {
   "cell_type": "markdown",
   "id": "coordinate-giant",
   "metadata": {},
   "source": [
    "    Criando a Base de Dados"
   ]
  },
  {
   "cell_type": "code",
   "execution_count": 46,
   "id": "raising-jerusalem",
   "metadata": {
    "scrolled": true
   },
   "outputs": [],
   "source": [
    "import pandas as pd\n",
    "\n",
    "dataBase = pd.DataFrame(columns=[\"Nome\", \"Altura\", \"Peso\", \"Qtd.Vitorias\", \"Qtd.Derrotas\"], index=[0])"
   ]
  },
  {
   "cell_type": "markdown",
   "id": "warming-dispute",
   "metadata": {},
   "source": [
    "    Adicionando valores ao dataBase"
   ]
  },
  {
   "cell_type": "code",
   "execution_count": 47,
   "id": "complete-wildlife",
   "metadata": {},
   "outputs": [],
   "source": [
    "import random as rm\n",
    "\n",
    "nomes = [\"João\", \"Gabriel\", \"Rodolfo\", \"Igor\", \"Matheus\", \"Ricardo\", \"Pedro\", \"Otávio\", \"Vitor\", \"Lucas\", \"Breno\"]\n",
    "indice = 0\n",
    "\n",
    "for indice in range(10):\n",
    "    dataBase.loc[indice] = [nomes[indice]] + [round(rm.uniform(1.60, 2.00), 2)] + [round(rm.uniform(60, 100), 2)] + [round(rm.randint(10, 60), 2)] + [round(rm.randint(10, 60), 2)]\n",
    "    indice = indice + 1"
   ]
  },
  {
   "cell_type": "markdown",
   "id": "literary-fight",
   "metadata": {},
   "source": [
    "    Adicionando linhas sem alguns valores"
   ]
  },
  {
   "cell_type": "code",
   "execution_count": 66,
   "id": "paperback-weather",
   "metadata": {},
   "outputs": [],
   "source": [
    "dataBase.loc[10] = [\"Kleber\"] + [None] + [80] + [56] + [38]\n",
    "dataBase.loc[11] = [\"Gilberto\"] + [round(rm.uniform(1.60, 2.00), 2)] + [None] + [56] + [38]\n",
    "dataBase.loc[12] = [\"Ray\"] + [round(rm.uniform(1.60, 2.00), 2)] + [None] + [56] + [38]"
   ]
  },
  {
   "cell_type": "markdown",
   "id": "fifteen-samuel",
   "metadata": {},
   "source": [
    "    Agora, vamos ver quantas linhas estão má preenchidas:"
   ]
  },
  {
   "cell_type": "code",
   "execution_count": 67,
   "id": "happy-jerusalem",
   "metadata": {},
   "outputs": [
    {
     "name": "stdout",
     "output_type": "stream",
     "text": [
      "Nome            0\n",
      "Altura          1\n",
      "Peso            2\n",
      "Qtd.Vitorias    0\n",
      "Qtd.Derrotas    0\n",
      "dtype: int64\n"
     ]
    }
   ],
   "source": [
    "print(dataBase.isna().sum())"
   ]
  },
  {
   "cell_type": "markdown",
   "id": "assumed-exhaust",
   "metadata": {},
   "source": [
    "    Por essa linha de código, temos que:\n",
    "    - Na coluna \"Nome\" não temos nenhum preenchimento nulo;\n",
    "    - Na coluna \"Altura\" temos 1 preenchimento nulo;\n",
    "    - Na coluna \"Peso\" temos 2 preenchimentos nulos;\n",
    "    - Na coluna \"Qtd.Vitorias\" e \"Qtd.Derrotas\" não temos preenchimentos nulos."
   ]
  },
  {
   "cell_type": "markdown",
   "id": "express-suspension",
   "metadata": {},
   "source": [
    "    Com esses dados em mãos temos que análisar se excluindo esses dados o resultado final irá mudar. Por exemplo, Imagine uma base de dados com 30000 linhas, excluir 1000 não fará tanta diferença no resultado final, porém, nossa base de dados \n",
    "    de exemplo tem poucas linhas, então exluir irá fazer falta nas análises.\n",
    "    Portanto, temos que preencher essas dados de maneira com que melhor se encaixe no banco. Nesse caso, vamos preencher com a média das colunas, ou seja, na linha que falta os dados na coluna de \"Altura\", iremos preencher com a média da altura."
   ]
  },
  {
   "cell_type": "code",
   "execution_count": 72,
   "id": "provincial-springfield",
   "metadata": {},
   "outputs": [
    {
     "name": "stdout",
     "output_type": "stream",
     "text": [
      "0\n"
     ]
    }
   ],
   "source": [
    "media_altura = dataBase.Altura.median() # retorna 1.79\n",
    "dataBase.fillna(media_altura, inplace=True) # adiciona o valor em todas as linhas da coluna de altura que estão vazias\n",
    "print(dataBase.Altura.isna().sum()) # retorna 0 -> valor de linhas vazias"
   ]
  },
  {
   "cell_type": "code",
   "execution_count": null,
   "id": "civilian-youth",
   "metadata": {},
   "outputs": [],
   "source": []
  }
 ],
 "metadata": {
  "kernelspec": {
   "display_name": "Python 3",
   "language": "python",
   "name": "python3"
  },
  "language_info": {
   "codemirror_mode": {
    "name": "ipython",
    "version": 3
   },
   "file_extension": ".py",
   "mimetype": "text/x-python",
   "name": "python",
   "nbconvert_exporter": "python",
   "pygments_lexer": "ipython3",
   "version": "3.9.1"
  }
 },
 "nbformat": 4,
 "nbformat_minor": 5
}
