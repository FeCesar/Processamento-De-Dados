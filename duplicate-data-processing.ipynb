{
 "cells": [
  {
   "cell_type": "markdown",
   "id": "strong-ethics",
   "metadata": {},
   "source": [
    "# Tratando dados duplicados com Python - Pandas\n",
    "\n",
    "Normalmente nas análises de bancos de dados, temos que algumas linhas são duplicadas, ou seja, com o mesmo valor, fazendo com que a análise seja menos precisa e eficaz. Para tratar dessas linhas duplicadas, utilizaremos a biblioteca Pandas que se trata de uma biblioteca feita em python e que possibilita o tratamento e a análise de grandes quantidades de dados.\n",
    "\n",
    "   - Instalando a Biblioteca Pandas:\n",
    "        - Com o python instalado no computador, temos o gerenciador de dependências incluso - o pip;\n",
    "        - Basta abrir o cmd/powerShell e digitar # pip install pandas"
   ]
  }
 ],
 "metadata": {
  "kernelspec": {
   "display_name": "Python 3",
   "language": "python",
   "name": "python3"
  },
  "language_info": {
   "codemirror_mode": {
    "name": "ipython",
    "version": 3
   },
   "file_extension": ".py",
   "mimetype": "text/x-python",
   "name": "python",
   "nbconvert_exporter": "python",
   "pygments_lexer": "ipython3",
   "version": "3.9.1"
  }
 },
 "nbformat": 4,
 "nbformat_minor": 5
}
